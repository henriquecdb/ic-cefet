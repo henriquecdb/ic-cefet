{
 "cells": [
  {
   "cell_type": "code",
   "execution_count": 67,
   "metadata": {},
   "outputs": [],
   "source": [
    "try:\n",
    "    import sim\n",
    "except:\n",
    "    print ('--------------------------------------------------------------')\n",
    "    print ('\"sim.py\" could not be imported. This means very probably that')\n",
    "    print ('either \"sim.py\" or the remoteApi library could not be found.')\n",
    "    print ('Make sure both are in the same folder as this file,')\n",
    "    print ('or appropriately adjust the file \"sim.py\"')\n",
    "    print ('--------------------------------------------------------------')\n",
    "    print ('')\n",
    "  \n",
    "\n",
    "import time\n",
    "import numpy as np\n",
    "\n",
    "def Rz(theta):\n",
    "  \n",
    "    return np.array([[ np.cos(theta), -np.sin(theta), 0 ],\n",
    "                      [ np.sin(theta), np.cos(theta) , 0 ],\n",
    "                      [ 0            , 0             , 1 ]])\n"
   ]
  },
  {
   "cell_type": "markdown",
   "metadata": {},
   "source": [
    "# Holonômico (robotino)"
   ]
  },
  {
   "cell_type": "code",
   "execution_count": 68,
   "metadata": {},
   "outputs": [
    {
     "name": "stdout",
     "output_type": "stream",
     "text": [
      "Program started\n",
      "Connected to remote API server\n",
      "==>  10.945343732833862 [0.9789813  1.95796261] 56.356315302217155\n",
      "Pos:  [-1.5965920686721802, -2.4682765007019043, 0.027578866109251976]\n",
      "Ori:  [ 5.08082874e+00 -6.51002405e-05 -9.11049290e+01]\n",
      "Program ended\n"
     ]
    }
   ],
   "source": [
    "####################################################################################\n",
    "#                                                                                  #\n",
    "#                 LEMBRE-SE QUE A SIMULAÇÃO DEVE ESTAR EM EXECUÇÃO!                #\n",
    "#                                                                                  #\n",
    "####################################################################################\n",
    "\n",
    "print ('Program started')\n",
    "sim.simxFinish(-1) # just in case, close all opened connections\n",
    "clientID=sim.simxStart('127.0.0.1',19999,True,True,5000,5) # Connect to CoppeliaSim\n",
    "\n",
    "if clientID!=-1:\n",
    "    print ('Connected to remote API server')\n",
    "\n",
    "    robotname = 'robotino'\n",
    "    returnCode, robotHandle = sim.simxGetObjectHandle(clientID, robotname, sim.simx_opmode_oneshot_wait)     \n",
    "                 \n",
    "    returnCode, wheel1 = sim.simxGetObjectHandle(clientID, 'wheel0_joint', sim.simx_opmode_oneshot_wait)\n",
    "    returnCode, wheel2 = sim.simxGetObjectHandle(clientID, 'wheel1_joint', sim.simx_opmode_oneshot_wait)\n",
    "    returnCode, wheel3 = sim.simxGetObjectHandle(clientID, 'wheel2_joint', sim.simx_opmode_oneshot_wait)\n",
    "           \n",
    "    # Robotino\n",
    "    L = 0.135   # Metros\n",
    "    r = 0.040   # Metros\n",
    "               \n",
    "    # Cinemática Direta\n",
    "    Mdir = np.array([[-r/np.sqrt(3), 0, r/np.sqrt(3)], [r/3, (-2*r)/3, r/3], [r/(3*L), r/(3*L), r/(3*L)]])\n",
    "                       \n",
    "    q = np.array([0, 0, 0])\n",
    "    \n",
    "    # Lembrar de habilitar o 'Real-time mode'\n",
    "    t = 0\n",
    "    lastTime = time.time()\n",
    "\n",
    "    arr = [[1,2,0],[1,3,0],[2,4,0]]\n",
    "    qf = np.array([1,2,0])\n",
    "    q_diff = qf - q\n",
    "    err = np.sqrt(q_diff[:2] @ q_diff[:2])\n",
    "    \n",
    "    while err > 0.05:\n",
    "        q_diff = qf - q\n",
    "        err = np.sqrt(q_diff[:2] @ q_diff[:2])\n",
    "        #werr = np.arctan2(q_diff[1], q_diff[0]) - q[2]\n",
    "        werr = 0\n",
    "        qu = q_diff[:2]/err\n",
    "        \n",
    "        now = time.time()\n",
    "        dt = now - lastTime\n",
    "        \n",
    "        qdot = np.array([qu[0]*.2,qu[1]*.2,werr*.2])\n",
    "    \n",
    "        Minv = np.linalg.inv(Rz(q[2]) @ Mdir)\n",
    "        u = Minv @ qdot\n",
    "\n",
    "        # Enviando velocidades\n",
    "        sim.simxSetJointTargetVelocity(clientID, wheel1, u[0], sim.simx_opmode_streaming)\n",
    "        sim.simxSetJointTargetVelocity(clientID, wheel2, u[1], sim.simx_opmode_streaming)\n",
    "        sim.simxSetJointTargetVelocity(clientID, wheel3, u[2], sim.simx_opmode_streaming)      \n",
    "        \n",
    "        q = q + (Rz(q[2]) @ Mdir @ u) * dt\n",
    "        t = t + dt        \n",
    "        lastTime = now\n",
    "        \n",
    "        \n",
    "    print('==> ', t, q[:2], np.rad2deg(q[2]))\n",
    "    returnCode, pos = sim.simxGetObjectPosition(clientID, robotHandle, -1, sim.simx_opmode_oneshot_wait)        \n",
    "    print('Pos: ', pos)\n",
    "\n",
    "    returnCode, ori = sim.simxGetObjectOrientation(clientID, robotHandle, -1, sim.simx_opmode_oneshot_wait)\n",
    "    print('Ori: ', np.rad2deg(ori))\n",
    "        \n",
    "    sim.simxSetJointTargetVelocity(clientID, wheel1, 0, sim.simx_opmode_oneshot_wait)\n",
    "    sim.simxSetJointTargetVelocity(clientID, wheel2, 0, sim.simx_opmode_oneshot_wait)\n",
    "    sim.simxSetJointTargetVelocity(clientID, wheel3, 0, sim.simx_opmode_oneshot_wait)\n",
    "        \n",
    "    # Now close the connection to CoppeliaSim:\n",
    "    sim.simxFinish(clientID)\n",
    "    \n",
    "else:\n",
    "    print ('Failed connecting to remote API server')\n",
    "    \n",
    "print ('Program ended')"
   ]
  },
  {
   "cell_type": "code",
   "execution_count": null,
   "metadata": {},
   "outputs": [],
   "source": []
  }
 ],
 "metadata": {
  "kernelspec": {
   "display_name": "Python 3.10.6 64-bit",
   "language": "python",
   "name": "python3"
  },
  "language_info": {
   "codemirror_mode": {
    "name": "ipython",
    "version": 3
   },
   "file_extension": ".py",
   "mimetype": "text/x-python",
   "name": "python",
   "nbconvert_exporter": "python",
   "pygments_lexer": "ipython3",
   "version": "3.10.6"
  },
  "vscode": {
   "interpreter": {
    "hash": "916dbcbb3f70747c44a77c7bcd40155683ae19c65e1c03b4aa3499c5328201f1"
   }
  }
 },
 "nbformat": 4,
 "nbformat_minor": 4
}
